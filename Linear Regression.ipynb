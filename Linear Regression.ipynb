{
 "cells": [
  {
   "cell_type": "code",
   "execution_count": null,
   "metadata": {},
   "outputs": [],
   "source": [
    "%matplotlib ipympl\n",
    "\n",
    "import matplotlib.pyplot as plt\n",
    "import seaborn as sns\n",
    "import numpy as np\n",
    "\n",
    "from matplotlib.animation import FuncAnimation\n",
    "from matplotlib.widgets import Slider\n",
    "\n",
    "from sklearn.datasets import make_regression\n",
    "\n",
    "sns.set_theme()"
   ]
  },
  {
   "cell_type": "code",
   "execution_count": null,
   "metadata": {},
   "outputs": [],
   "source": [
    "X, y = make_regression(n_samples=15, n_features=1, noise=15)\n",
    "y = y.reshape(-1,1)\n",
    "\n",
    "plt.figure(figsize=(5,5))\n",
    "plt.scatter(X, y, label='Real Observed Data', edgecolors='black')\n",
    "plt.xlabel('X')\n",
    "plt.ylabel('Y')\n",
    "plt.legend()"
   ]
  },
  {
   "cell_type": "code",
   "execution_count": null,
   "metadata": {},
   "outputs": [],
   "source": [
    "a = 0\n",
    "b = np.mean(y)\n",
    "y_ = a * X + b\n",
    "\n",
    "plt.figure(figsize=(5,5))\n",
    "plt.scatter(X, y, label='Real Observed Data $y$', ec='black')\n",
    "plt.plot(X, y_, label=\"Arbitrarial Fitting Line $y'$\", c='black')\n",
    "plt.vlines(x=X, ymin=y, ymax=y_, color='red', ls='--', label=\"Residual $|y-y'|$\")\n",
    "plt.xlabel('X')\n",
    "plt.ylabel('Y')\n",
    "plt.legend()"
   ]
  },
  {
   "cell_type": "code",
   "execution_count": null,
   "metadata": {},
   "outputs": [],
   "source": [
    "def mse(y_true, y_pred):\n",
    "    return np.mean((y_true - y_pred)**2)\n",
    "\n",
    "def dmse_da(x, y_true, y_pred):\n",
    "    return -2 * np.mean(x * (y_true - y_pred))\n",
    "\n",
    "def dmse_db(y_true, y_pred):\n",
    "    return -2 * np.mean(y_true - y_pred)"
   ]
  },
  {
   "cell_type": "code",
   "execution_count": null,
   "metadata": {},
   "outputs": [],
   "source": [
    "coef = []\n",
    "loss = []\n",
    "\n",
    "learning_rate = 1e-01\n",
    "epochs = 75\n",
    "\n",
    "a = 0\n",
    "b = np.mean(y)\n",
    "y_ = a * X + b\n",
    "\n",
    "for i in range(0, epochs):\n",
    "\n",
    "    da = dmse_da(X, y, y_)\n",
    "    db = dmse_db(y, y_)\n",
    "\n",
    "    a -= learning_rate * da\n",
    "    b -= learning_rate * db\n",
    "\n",
    "    y_ = a * X + b\n",
    "\n",
    "    coef.append((a,b))\n",
    "    loss.append(mse(y, y_))\n",
    "\n",
    "    print(f'Epoch: {i} | Loss: {round(loss[-1], 5)}')\n",
    "\n",
    "fig, ax = plt.subplots(nrows=1, ncols=2, figsize=(10,5))\n",
    "\n",
    "ax[0].plot(range(epochs), loss, label=\"Train Loss\", c='black')\n",
    "ax[0].set_xlabel('Epoch')\n",
    "ax[0].set_ylabel('MSE')\n",
    "ax[0].legend()\n",
    "\n",
    "ax[1].scatter(X, y, label='Real Observed Data (y)', ec='black')\n",
    "ax[1].plot(X, y_, label=\"Best Model (y')\", c='black')\n",
    "ax[1].vlines(x=X, ymin=y, ymax=y_, color='red', ls='--', label=\"Residual (|y-y'|)\")\n",
    "ax[1].set_xlabel('X')\n",
    "ax[1].set_ylabel('Y')\n",
    "ax[1].legend()"
   ]
  },
  {
   "cell_type": "code",
   "execution_count": null,
   "metadata": {},
   "outputs": [],
   "source": [
    "def animate(i):\n",
    "    if i == 0:\n",
    "        ax[0].set_xlim(0, 1)\n",
    "    else:\n",
    "        ax[0].set_xlim(0, i)\n",
    "    ax[0].set_title(f'Epoch: {i} | Loss: {round(loss[i], 5)}')\n",
    "\n",
    "    a = coef[i][0]\n",
    "    b = coef[i][1]\n",
    "    y_ = a * X + b\n",
    "\n",
    "    line.set_ydata(y_)\n",
    "\n",
    "fig, ax = plt.subplots(nrows=1, ncols=2, figsize=(8,4))\n",
    "\n",
    "ax[0].plot(range(epochs), loss, label=\"Train Loss\", c='black')\n",
    "ax[0].set_xlabel('Epoch')\n",
    "ax[0].set_ylabel('MSE')\n",
    "ax[0].set_title(f'Epoch: 0 | Loss: {round(loss[0], 5)}')\n",
    "ax[0].set_xlim(0,1)\n",
    "ax[0].legend()\n",
    "\n",
    "ax[1].scatter(X, y, label='Real Observed Data (y)', ec='black')\n",
    "line, = ax[1].plot(X, coef[0][0] * X + coef[0][1], label=\"Best Model (y')\", c='black')\n",
    "ax[1].set_xlabel('X')\n",
    "ax[1].set_ylabel('Y')\n",
    "ax[1].legend()\n",
    "\n",
    "fig.tight_layout()\n",
    "\n",
    "FuncAnimation(fig, animate, frames=epochs, repeat=False)"
   ]
  },
  {
   "cell_type": "code",
   "execution_count": null,
   "metadata": {},
   "outputs": [],
   "source": [
    "coef = np.asarray(coef)\n",
    "\n",
    "fig, ax = plt.subplots(figsize=(4,4), subplot_kw={'projection':'3d'})\n",
    "plt.scatter(coef[:,0], coef[:,1], loss)"
   ]
  },
  {
   "cell_type": "code",
   "execution_count": null,
   "metadata": {},
   "outputs": [],
   "source": []
  }
 ],
 "metadata": {
  "kernelspec": {
   "display_name": "Python 3",
   "language": "python",
   "name": "python3"
  },
  "language_info": {
   "codemirror_mode": {
    "name": "ipython",
    "version": 3
   },
   "file_extension": ".py",
   "mimetype": "text/x-python",
   "name": "python",
   "nbconvert_exporter": "python",
   "pygments_lexer": "ipython3",
   "version": "3.11.4"
  },
  "orig_nbformat": 4
 },
 "nbformat": 4,
 "nbformat_minor": 2
}
