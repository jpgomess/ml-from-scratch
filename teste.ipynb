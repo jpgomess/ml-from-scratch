{
 "cells": [
  {
   "cell_type": "code",
   "execution_count": null,
   "metadata": {},
   "outputs": [],
   "source": [
    "import numpy as np\n",
    "import ipywidgets as widgets\n",
    "import matplotlib.pyplot as plt\n",
    "\n",
    "from ipywidgets import interact\n",
    "\n",
    "%matplotlib widget"
   ]
  },
  {
   "cell_type": "code",
   "execution_count": null,
   "metadata": {},
   "outputs": [],
   "source": [
    "m = 100\n",
    "X = np.linspace(-2*np.pi, 2*np.pi, m)\n",
    "X = (X - np.mean(X)) / np.std(X)\n",
    "y = np.sin(X) + np.random.rand(m) - 0.5\n",
    "\n",
    "X = np.concatenate([np.ones(m).reshape(-1,1), X.reshape(-1,1)], axis=1)\n",
    "w = np.asarray([1.,0.])\n",
    "\n",
    "epochs = 25\n",
    "lr = 1e-1\n",
    "loss = []\n",
    "sigma_list = []\n",
    "for _ in range(epochs):\n",
    "    z = X.dot(w)\n",
    "    sigma = np.sin(z)\n",
    "    error = y - sigma\n",
    "    gradient = -2 * X.T.dot(error * np.cos(z)) / m\n",
    "\n",
    "    loss.append(error.T.dot(error))\n",
    "    sigma_list.append(sigma)\n",
    "\n",
    "    w -= lr * gradient\n",
    "\n",
    "plt.figure(figsize=(7,5))\n",
    "plt.plot(loss)"
   ]
  },
  {
   "cell_type": "code",
   "execution_count": null,
   "metadata": {},
   "outputs": [],
   "source": [
    "fig = plt.figure(figsize=(15,5))\n",
    "\n",
    "ax1 = fig.add_subplot(121)\n",
    "ax2 = fig.add_subplot(122)\n",
    "\n",
    "fig.tight_layout()\n",
    "plt.show()\n",
    "\n",
    "def update(i):\n",
    "    ax1.clear()\n",
    "    ax1.plot(loss)\n",
    "    ax1.scatter(i, loss[i])\n",
    "\n",
    "    ax2.clear()\n",
    "    ax2.scatter(X[:,1], y)\n",
    "    ax2.plot(X[:,1], sigma_list[i])\n",
    "\n",
    "interact(update, i=widgets.IntSlider(value=0, min=0, max=epochs-1, step=1))"
   ]
  },
  {
   "cell_type": "code",
   "execution_count": null,
   "metadata": {},
   "outputs": [],
   "source": [
    "W0 = np.linspace(-5,5,100)\n",
    "W1 = np.linspace(-5,5,100)\n",
    "W0, W1 = np.meshgrid(W0, W1)\n",
    "\n",
    "error_surface = ((np.cos(y - np.sin(W1.reshape(-1,1) * X[:,1].T + W0.reshape(-1,1))))**2).mean(axis=1).reshape(100, 100)\n",
    "\n",
    "fig, axes = plt.subplots(1, 1, figsize=(7,7), subplot_kw={'projection':'3d'})\n",
    "\n",
    "axes.plot_surface(W0, W1, error_surface, cmap='coolwarm')"
   ]
  },
  {
   "cell_type": "code",
   "execution_count": null,
   "metadata": {},
   "outputs": [],
   "source": [
    "\n",
    "error_surface"
   ]
  }
 ],
 "metadata": {
  "kernelspec": {
   "display_name": "base",
   "language": "python",
   "name": "python3"
  },
  "language_info": {
   "codemirror_mode": {
    "name": "ipython",
    "version": 3
   },
   "file_extension": ".py",
   "mimetype": "text/x-python",
   "name": "python",
   "nbconvert_exporter": "python",
   "pygments_lexer": "ipython3",
   "version": "3.12.1"
  }
 },
 "nbformat": 4,
 "nbformat_minor": 2
}
