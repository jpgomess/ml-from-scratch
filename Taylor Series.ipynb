{
 "cells": [
  {
   "cell_type": "code",
   "execution_count": null,
   "metadata": {},
   "outputs": [],
   "source": [
    "import matplotlib.pyplot as plt\n",
    "import seaborn as sns\n",
    "import numpy as np\n",
    "import math\n",
    "\n",
    "from matplotlib.widgets import Slider\n",
    "\n",
    "sns.set_theme()\n",
    "\n",
    "%matplotlib widget"
   ]
  },
  {
   "cell_type": "markdown",
   "metadata": {},
   "source": [
    "As séries de Taylor são uma ferramenta matemática que permitem aproximar qualquer função contínua por uma função polinomial.\n",
    "\n",
    "As funções polinomiais são mais fáceis de diferenciar, integrar, computar...\n",
    "\n",
    "Uma série de Taylor é uma soma infinita de termos calculados a partir das derivadas de uma função em um ponto de referência.\n",
    "\n",
    "Mas como?\n",
    "\n",
    "Vamos tomar a função $cos(x)$ como exemplo e tentar aproxima-la por uma função polinomial de grau 2 do tipo:\n",
    "\n",
    "$$P(x) = c_0 + c_1 \\cdot x + c_2 \\cdot x^2$$\n",
    "\n",
    "Fazendo uma aproximação para os valores de $x$ próximos a $x=0$, como podemos escolher os valores de $c_0, c_1$ e $c_2$ que melhor aproximem a função $cos(x)$?"
   ]
  },
  {
   "cell_type": "code",
   "execution_count": null,
   "metadata": {},
   "outputs": [],
   "source": [
    "x = np.linspace(-2*np.pi, 2*np.pi, 200)\n",
    "y = np.cos(x)\n",
    "\n",
    "p1 = 1 + 1 * x - 2 * x**2\n",
    "p2 = 0 - 2 * x - 1 * x**2\n",
    "p3 = -1 + 2 * x - 0.5 * x**2\n",
    "\n",
    "fig, ax = plt.subplots(figsize=(6,4))\n",
    "\n",
    "ax.plot(x, y, label='$cos(x)$')\n",
    "ax.plot(x, p1, label='$? + ?x + ?x^2$', linestyle='--')\n",
    "ax.plot(x, p2, label='$? + ?x + ?x^2$', linestyle='--')\n",
    "ax.plot(x, p3, label='$? + ?x + ?x^2$', linestyle='--')\n",
    "\n",
    "ax.legend()\n",
    "ax.set_ylabel('$f(x)$')\n",
    "ax.set_xlabel('$x$')\n",
    "ax.set_ylim(-2, 2)\n",
    "\n",
    "plt.show()"
   ]
  },
  {
   "cell_type": "markdown",
   "metadata": {},
   "source": [
    "* Primeiramente, é assumido que um ponto $a$, que satistaça a relação $f(a) = P(a)$:\n",
    "\n",
    "$$ f(x)=cos(x); a = 0 $$\n",
    "\n",
    "$$ cos(0)=P(0) $$\n",
    "\n",
    "$$ 1 = c_0 + c_1 \\cdot 0 + c_2 \\cdot 0^2 $$\n",
    "\n",
    "$$c_0 = 1$$"
   ]
  },
  {
   "cell_type": "markdown",
   "metadata": {},
   "source": [
    "* Posteriormente, são assumidas relações de igualdade entre as derivadas da função $f(x)$ e do polinômio $P(x)$ no ponto $a$:\n",
    "\n",
    "$$ f'(a) = P'(a) $$\n",
    "\n",
    "$$ cos'(0) = P'(0) $$\n",
    "\n",
    "$$ -sin(0) = c_1 + c_2 \\cdot 2 \\cdot 0 $$\n",
    "\n",
    "$$ c_1 = 0 $$"
   ]
  },
  {
   "cell_type": "markdown",
   "metadata": {},
   "source": [
    "* Fazendo o mesmo para a segunda derivada:\n",
    "\n",
    "$$ f''(a) = P''(a) $$\n",
    "\n",
    "$$ cos''(0) = P''(0) $$\n",
    "\n",
    "$$ -cos(0) = 2 \\cdot 1 \\cdot c_2 $$\n",
    "\n",
    "$$ -\\frac{1}{2} = c_2 $$"
   ]
  },
  {
   "cell_type": "code",
   "execution_count": null,
   "metadata": {},
   "outputs": [],
   "source": [
    "x = np.linspace(-2*np.pi, 2*np.pi, 200)\n",
    "y = np.cos(x)\n",
    "\n",
    "p = 1 + 0 * x - 1/2 * x**2\n",
    "\n",
    "fig, ax = plt.subplots(figsize=(6,4))\n",
    "\n",
    "ax.plot(x, y, label=r'$cos(x)$')\n",
    "ax.plot(x, p, label=r'$P(x) = 1 + 0 \\cdot x - \\frac{1}{2} \\cdot x^2 $', linestyle='--')\n",
    "\n",
    "ax.legend()\n",
    "ax.set_ylabel(r'$f(x)$')\n",
    "ax.set_xlabel(r'$x$')\n",
    "ax.set_ylim(-2, 2)\n",
    "\n",
    "plt.show()"
   ]
  },
  {
   "cell_type": "markdown",
   "metadata": {},
   "source": [
    "Agora, fazendo a aproximação da função $cos(x)$ para um polinômio de grau 4, temos\n",
    "\n",
    "$$ P(x) = c_0 + c_1 \\cdot x + c_2 \\cdot x^2 + c_3 \\cdot x^3 + c_4 \\cdot x^4$$\n",
    "\n",
    "$$ f'''(a) = P'''(a) $$\n",
    "\n",
    "$$ cos'''(0) = 3 \\cdot 2 \\cdot 1 \\cdot c_3 + 4 \\cdot 3 \\cdot 2 \\cdot c_4 \\cdot 0 $$\n",
    "\n",
    "$$ sin(0) = 6 \\cdot c_3 $$\n",
    "\n",
    "$$ 0 = c_3 $$"
   ]
  },
  {
   "cell_type": "markdown",
   "metadata": {},
   "source": [
    "* Fazendo o mesmo para a quarta derivada:\n",
    "\n",
    "$$ f''''(a) = P''''(a) $$\n",
    "\n",
    "$$ cos''''(0) = 4 \\cdot 3 \\cdot 2 \\cdot 1 \\cdot c_4 $$\n",
    "\n",
    "$$ cos(0) = 24 \\cdot c_4 $$\n",
    "\n",
    "$$ \\frac{1}{24} = c_4 $$\n",
    "\n",
    "* Portanto, o polinômio de quarta ordem que aproxima a função $cos(x)$ em torno de $x=0$ é\n",
    "\n",
    "$$ P(x) = 1 + 0 \\cdot x - \\frac{1}{2} \\cdot x^2 + 0 \\cdot x^3 + \\frac{1}{24} \\cdot x^4 $$\n",
    "\n",
    "$$ P(x) = 1 - \\frac{1}{2} \\cdot x^2 + \\frac{1}{24} \\cdot x^4 $$"
   ]
  },
  {
   "cell_type": "code",
   "execution_count": null,
   "metadata": {},
   "outputs": [],
   "source": [
    "x = np.linspace(-2*np.pi, 2*np.pi, 200)\n",
    "y = np.cos(x)\n",
    "\n",
    "p = 1 + 0 * x - 1/2 * x**2 + 0 * x**3 + 1/24 * x**4\n",
    "\n",
    "fig, ax = plt.subplots(figsize=(6,4))\n",
    "\n",
    "ax.plot(x, y, label=r'$cos(x)$')\n",
    "ax.plot(x, p, label=r'$P(x) = 1 + 0 \\cdot x - \\frac{1}{2} \\cdot x^2 + 0 \\cdot x^3 + \\frac{1}{24} \\cdot x^4$', linestyle='--')\n",
    "\n",
    "ax.legend()\n",
    "ax.set_ylabel(r'$f(x)$')\n",
    "ax.set_xlabel(r'$x$')\n",
    "ax.set_ylim(-2, 2)\n",
    "\n",
    "plt.show()"
   ]
  },
  {
   "cell_type": "markdown",
   "metadata": {},
   "source": [
    "A partir das aproximações realizadas, podemos observar que\n",
    "\n",
    "$$\\frac{d^n P(x)}{d x^n} = n! \\cdot c_n $$\n",
    "\n",
    "$$\\frac{1}{n!} \\frac{d^n P(x)}{d x^n} = c_n $$\n",
    "\n",
    "e que, para $x=0$, os coeficientes $c_n$ não influenciam os outros termos. Veja:\n",
    "\n",
    "$$ P(x) = 1 + \\left(- \\frac{1}{2} \\right) x^2 + c_4 x^4 $$\n",
    "\n",
    "$$ \\frac{d^2 P(0)}{d x^2} = 2! \\cdot \\left(-\\frac{1}{2} \\right) + 3 \\cdot 2 \\cdot c_3 \\cdot (0) + 4 \\cdot 3 \\cdot c_4 \\cdot (0)^2 $$\n",
    "\n",
    "$$ \\frac{d^2 P(0)}{d x^2} = 2! \\cdot c_2 $$\n",
    "\n",
    "Dessa forma, cada coeficiente $c_n$ é responsável por controlar a n-ésima derivada $\\frac{d^n P(0)}{d x^n} $\n",
    "\n",
    "Portanto, generalizando para $a \\neq 0$, tem-se\n",
    "\n",
    "$$ P^n(x) = f(a) + \\frac{df(a)}{dx} \\frac{(x-a)^1}{1!} + \\frac{d^2f(a)}{d^2x} \\frac{(x-a)^2}{2!} + \\dots + \\frac{d^nf(a)}{d^nx} \\frac{(x-a)^n}{n!}$$\n",
    "\n",
    "$$ P^n(x) = \\sum_{i=0}^{n} \\frac{d^nf(a)}{d^nx} \\frac{(x-a)^n}{n!}$$"
   ]
  },
  {
   "cell_type": "markdown",
   "metadata": {},
   "source": [
    "#### EXEMPLO 1 - $e^x$"
   ]
  },
  {
   "cell_type": "markdown",
   "metadata": {},
   "source": [
    "$$ e^x = \\sum_{i=0}^{\\infty} \\frac{1}{i!} x^i $$"
   ]
  },
  {
   "cell_type": "code",
   "execution_count": null,
   "metadata": {},
   "outputs": [],
   "source": [
    "def TaylorExp(x, n):\n",
    "    exp = 0\n",
    "    for i in range(n+1):\n",
    "        exp += 1 / math.factorial(i) * x**(i)\n",
    "\n",
    "    return exp"
   ]
  },
  {
   "cell_type": "code",
   "execution_count": null,
   "metadata": {},
   "outputs": [],
   "source": [
    "fig = plt.figure(figsize=(10,5))\n",
    "plt.subplots_adjust(bottom=0.25)                \n",
    "ax = fig.add_subplot(121)\n",
    "\n",
    "x = np.linspace(-10, 10, 200)\n",
    "y = np.exp(x)\n",
    "\n",
    "a = [0, 10]\n",
    "a0 = a[0]\n",
    "\n",
    "p = TaylorExp(x, a0)\n",
    "\n",
    "ax.plot(x, y, label=r'$e^x$')\n",
    "ax.plot(x, p, label=rf'$P^{a0}(x)$', linestyle='--')\n",
    "ax.legend()\n",
    "ax.set_ylabel(r'$f(x)$')\n",
    "ax.set_xlabel(r'$x$')\n",
    "ax.set_xlim(-10, 10)\n",
    "ax.set_ylim(-10, 50)\n",
    "\n",
    "slideraxes = plt.axes([0.2, 0.1, 0.65, 0.03])\n",
    "slider = Slider(slideraxes, 'Ordem $n$', a[0], a[-1], valinit=a0, valstep=1)\n",
    "\n",
    "def update(val): \n",
    "    a_slider = slider.val\n",
    "\n",
    "    p = TaylorExp(x, a_slider)\n",
    "\n",
    "    ax.clear()\n",
    "    ax.plot(x, y, label=r'$e^x$')\n",
    "    ax.plot(x, p, label=rf'$P^{a_slider}(x)$', linestyle='--')\n",
    "    ax.legend()\n",
    "    ax.set_ylabel(r'$f(x)$')\n",
    "    ax.set_xlabel(r'$x$')\n",
    "    ax.set_xlim(-10, 10)\n",
    "    ax.set_ylim(-10, 50)\n",
    "\n",
    "    fig.canvas.draw_idle() \n",
    "\n",
    "slider.on_changed(update)"
   ]
  },
  {
   "cell_type": "markdown",
   "metadata": {},
   "source": [
    "#### EXEMPLO 1 - $sin(x)$"
   ]
  },
  {
   "cell_type": "markdown",
   "metadata": {},
   "source": [
    "$$ sin(x) = \\sum_{i=0}^{\\infty} \\frac{(-1)^i \\cdot x^{2i+1}}{(2i+1)!} $$"
   ]
  },
  {
   "cell_type": "code",
   "execution_count": null,
   "metadata": {},
   "outputs": [],
   "source": [
    "def TaylorSin(x, n):\n",
    "    sin = 0\n",
    "    for i in range(n+1):\n",
    "        sin += (-1)**i * x**(2 * i + 1) / math.factorial(2 * i + 1)\n",
    "\n",
    "    return sin"
   ]
  },
  {
   "cell_type": "code",
   "execution_count": null,
   "metadata": {},
   "outputs": [],
   "source": [
    "fig = plt.figure(figsize=(10,5))\n",
    "plt.subplots_adjust(bottom=0.25)                \n",
    "ax = fig.add_subplot(121)\n",
    "\n",
    "x = np.linspace(-2*np.pi, 2*np.pi, 200)\n",
    "y = np.sin(x)\n",
    "\n",
    "a = [0, 10]\n",
    "a0 = a[0]\n",
    "\n",
    "p = TaylorSin(x, a0)\n",
    "\n",
    "ax.plot(x, y, label=r'$sin(x)$')\n",
    "ax.plot(x, p, label=rf'$P^{a0}(x)$', linestyle='--')\n",
    "ax.legend()\n",
    "ax.set_ylabel(r'$f(x)$')\n",
    "ax.set_xlabel(r'$x$')\n",
    "ax.set_ylim(-2, 2)\n",
    "\n",
    "slideraxes = plt.axes([0.2, 0.1, 0.65, 0.03])\n",
    "slider = Slider(slideraxes, 'Ordem $n$', a[0], a[-1], valinit=a0, valstep=1)\n",
    "\n",
    "def update(val): \n",
    "    a_slider = slider.val\n",
    "\n",
    "    p = TaylorSin(x, a_slider)\n",
    "\n",
    "    ax.clear()\n",
    "    ax.plot(x, y, label=r'$sin(x)$')\n",
    "    ax.plot(x, p, label=rf'$P^{a_slider}(x)$', linestyle='--')\n",
    "    ax.legend()\n",
    "    ax.set_ylabel(r'$f(x)$')\n",
    "    ax.set_xlabel(r'$x$')\n",
    "    ax.set_ylim(-2, 2)\n",
    "\n",
    "    fig.canvas.draw_idle() \n",
    "\n",
    "slider.on_changed(update)"
   ]
  },
  {
   "cell_type": "markdown",
   "metadata": {},
   "source": [
    "#### IMPLEMENTAÇÃO EM UMA FUNÇÃO ARBITRÁRIA"
   ]
  },
  {
   "cell_type": "markdown",
   "metadata": {},
   "source": [
    "$$ f'(x) = lim_{h \\rightarrow 0} \\frac{f(x + h) - f(x)}{h}$$"
   ]
  },
  {
   "cell_type": "code",
   "execution_count": null,
   "metadata": {},
   "outputs": [],
   "source": [
    "def derivative(f, x, h):\n",
    "    '''\n",
    "    f: Function f(x)\n",
    "    x: Argument of function f\n",
    "    h: Stepsize\n",
    "    '''\n",
    "    return (f(x + h) - f(x)) / h"
   ]
  },
  {
   "cell_type": "markdown",
   "metadata": {},
   "source": [
    "$$ f^{(n)}(x) = lim_{h \\rightarrow 0} \\frac{1}{h^n} \\sum_{k=0}^n (-1)^{k+n} \\frac{n!}{k!(n-k)!} f(x + kh) $$"
   ]
  },
  {
   "cell_type": "code",
   "execution_count": null,
   "metadata": {},
   "outputs": [],
   "source": [
    "def nDerivative(f, x, h, n):\n",
    "    '''\n",
    "    f: Function f(x)\n",
    "    x: Argument of function f\n",
    "    h: Stepsize\n",
    "    n: Derivative order\n",
    "    '''\n",
    "    t = 0\n",
    "    for k in range(n + 1):\n",
    "        t += (-1)**(k+n) * math.factorial(n) / (math.factorial(k) * math.factorial(n - k)) * f(x + k*h)\n",
    "    return t / h**n"
   ]
  },
  {
   "cell_type": "code",
   "execution_count": null,
   "metadata": {},
   "outputs": [],
   "source": [
    "def func(x):\n",
    "    return np.sin(x)"
   ]
  },
  {
   "cell_type": "code",
   "execution_count": null,
   "metadata": {},
   "outputs": [],
   "source": [
    "derivative(func, 2, 0.01), nDerivative(func, 2, 0.001, 3)"
   ]
  },
  {
   "cell_type": "code",
   "execution_count": null,
   "metadata": {},
   "outputs": [],
   "source": [
    "def taylor(f, x, x0, n, h):\n",
    "    '''\n",
    "    f: Function f(x)\n",
    "    x: Argument of function f\n",
    "    x0: Argument at which the derivatives will be calculated\n",
    "    n: Order of the polynomial\n",
    "    h: Stepsize\n",
    "    '''\n",
    "    t = 0\n",
    "    for i in range(n + 1):\n",
    "        t += nDerivative(f, x0, h, i) * (x - x0)**i / math.factorial(i)\n",
    "    return t"
   ]
  },
  {
   "cell_type": "code",
   "execution_count": null,
   "metadata": {},
   "outputs": [],
   "source": [
    "x = np.linspace(-2*np.pi, 2*np.pi, 100)\n",
    "\n",
    "fig, ax = plt.subplots(figsize=(8,5))\n",
    "\n",
    "ax.plot(x, func(x), label=r'')\n",
    "ax.plot(x, taylor(func, x, 0, 5, 0.01), label=r'$Taylor(f(x))$ | $x_0 = 0$', linestyle='--')\n",
    "ax.plot(x, taylor(func, x, -2, 5, 0.01), label=r'$Taylor(f(x))$ | $x_0 = -2$', linestyle='--')\n",
    "ax.plot(x, taylor(func, x, 2, 5, 0.01), label=r'$Taylor(f(x))$ | $x_0 = 2$', linestyle='--')\n",
    "\n",
    "ax.legend()\n",
    "ax.set_ylabel(r'$f(x)$')\n",
    "ax.set_xlabel(r'$x$')\n",
    "ax.set_ylim(-2, 2)\n",
    "\n",
    "fig.tight_layout()\n",
    "plt.show()"
   ]
  },
  {
   "cell_type": "code",
   "execution_count": null,
   "metadata": {},
   "outputs": [],
   "source": []
  }
 ],
 "metadata": {
  "kernelspec": {
   "display_name": "base",
   "language": "python",
   "name": "python3"
  },
  "language_info": {
   "codemirror_mode": {
    "name": "ipython",
    "version": 3
   },
   "file_extension": ".py",
   "mimetype": "text/x-python",
   "name": "python",
   "nbconvert_exporter": "python",
   "pygments_lexer": "ipython3",
   "version": "3.11.7"
  }
 },
 "nbformat": 4,
 "nbformat_minor": 2
}
