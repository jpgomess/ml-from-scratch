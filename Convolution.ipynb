{
 "cells": [
  {
   "cell_type": "code",
   "execution_count": null,
   "metadata": {},
   "outputs": [],
   "source": [
    "import matplotlib.pyplot as plt\n",
    "import seaborn as sns\n",
    "import numpy as np\n",
    "\n",
    "sns.set_theme()"
   ]
  },
  {
   "cell_type": "code",
   "execution_count": null,
   "metadata": {},
   "outputs": [],
   "source": [
    "def conv1d(x, kernel):\n",
    "    nx, nkx = x.shape[0], kernel.shape[0]\n",
    "    x_conv = np.zeros_like(x)\n",
    "\n",
    "    for i in range(0, nx - nkx):\n",
    "        x_ = x[i : i + nkx]\n",
    "        x_conv[i + nkx // 2] = np.sum(np.multiply(x_, kernel))\n",
    "\n",
    "    return x_conv\n",
    "\n",
    "def conv2d(x, kernel):\n",
    "    nx, ny, nkx, nky = x.shape[0], x.shape[1], kernel.shape[0], kernel.shape[1]\n",
    "    x_conv = np.zeros_like(x)\n",
    "\n",
    "    for i in range(0, ny - nky):\n",
    "        for j in range(0, nx - nkx):\n",
    "            x_ = x[i : i + nky, j : j + nkx]\n",
    "            x_conv[i + nky // 2, j + nkx // 2] = np.sum(np.multiply(x_, kernel))\n",
    "\n",
    "    return x_conv"
   ]
  },
  {
   "cell_type": "code",
   "execution_count": null,
   "metadata": {},
   "outputs": [],
   "source": [
    "y = np.zeros(10)\n",
    "y[[2, 5, 8]] = 1\n",
    "\n",
    "kernel = np.asarray([-1, 1])\n",
    "\n",
    "img_conv = conv1d(y, kernel)\n",
    "\n",
    "fig, axes = plt.subplots(1, 3, figsize=(11, 3), sharey=True, sharex=True)\n",
    "\n",
    "axes[0].plot(y)\n",
    "axes[1].plot(kernel)\n",
    "axes[2].plot(img_conv)\n",
    "\n",
    "fig.tight_layout()\n",
    "plt.show()"
   ]
  },
  {
   "cell_type": "code",
   "execution_count": null,
   "metadata": {},
   "outputs": [],
   "source": [
    "img = np.zeros((10, 10))\n",
    "img[np.ones(10, dtype='int8')*3, np.arange(10)] = np.ones(10)\n",
    "img[np.ones(10, dtype='int8')*6, np.arange(10)] = np.ones(10)\n",
    "img[np.arange(10), np.ones(10, dtype='int8')*3] = np.ones(10)\n",
    "img[np.arange(10), np.ones(10, dtype='int8')*6] = np.ones(10)\n",
    "\n",
    "kernel = np.asarray([[0, -1, 0], [-1, 2, -1], [0, -1, 0]])\n",
    "\n",
    "img_conv = conv2d(img, kernel)\n",
    "\n",
    "fig, axes = plt.subplots(1, 3, figsize=(11, 4), sharey=True, sharex=True)\n",
    "\n",
    "axes[0].imshow(img, aspect='auto', cmap='gray')\n",
    "axes[1].imshow(kernel, aspect='auto', cmap='gray')\n",
    "axes[2].imshow(img_conv, aspect='auto', cmap='gray')\n",
    "\n",
    "fig.tight_layout()\n",
    "plt.show()"
   ]
  },
  {
   "cell_type": "code",
   "execution_count": null,
   "metadata": {},
   "outputs": [],
   "source": []
  },
  {
   "cell_type": "code",
   "execution_count": null,
   "metadata": {},
   "outputs": [],
   "source": []
  }
 ],
 "metadata": {
  "kernelspec": {
   "display_name": "base",
   "language": "python",
   "name": "python3"
  },
  "language_info": {
   "codemirror_mode": {
    "name": "ipython",
    "version": 3
   },
   "file_extension": ".py",
   "mimetype": "text/x-python",
   "name": "python",
   "nbconvert_exporter": "python",
   "pygments_lexer": "ipython3",
   "version": "3.12.2"
  }
 },
 "nbformat": 4,
 "nbformat_minor": 2
}
