{
 "cells": [
  {
   "cell_type": "code",
   "execution_count": 1,
   "metadata": {},
   "outputs": [],
   "source": [
    "import plotly.graph_objects as go\n",
    "import matplotlib.pyplot as plt\n",
    "import ipywidgets as widgets\n",
    "import seaborn as sns\n",
    "import pandas as pd\n",
    "import numpy as np\n",
    "\n",
    "from plotly.subplots import make_subplots\n",
    "from ipywidgets import interact\n",
    "\n",
    "from Linear_Regression import Linear_Regression\n",
    "from utils import interactive_plot\n",
    "\n",
    "sns.set_theme()\n",
    "\n",
    "%matplotlib widget"
   ]
  },
  {
   "cell_type": "code",
   "execution_count": 73,
   "metadata": {},
   "outputs": [],
   "source": [
    "from ipywidgets import interact\n",
    "\n",
    "def interactive_plot(X, y, arrow_length):\n",
    "\n",
    "    # ------------ CÁLCULO DAS VARIÁVEIS ------------ #\n",
    "    w0, w1 = 0, 0\n",
    "\n",
    "    W0_ = np.linspace(-100,100,25)\n",
    "    W1_ = np.linspace(-100,100,25)\n",
    "    W0, W1 = np.meshgrid(W0_, W1_)\n",
    "\n",
    "    error_surface = ((y - (W1.reshape(-1,1) * X.T + W0.reshape(-1,1)))**2).mean(axis=1).reshape(25, 25)\n",
    "    dj_dw0_field = - ((y - (W1.reshape(-1,1) * X + W0.reshape(-1,1))).mean(axis=1) * 2).reshape(25,25)\n",
    "    dj_dw1_field = - (((y - (W1.reshape(-1,1) * X + W0.reshape(-1,1))) * X).mean(axis=1) * 2).reshape(25,25)\n",
    "\n",
    "    # Definindo os limites do eixo y\n",
    "    max_error_surface = np.max(error_surface)\n",
    "    ylim = (-max_error_surface/10, max_error_surface)\n",
    "    xytext = (0, max_error_surface - max_error_surface/10)\n",
    "\n",
    "    # ------------ PLOT ------------ #\n",
    "    specs = [[{}, {}, {'type':'surface'}],\n",
    "             [{}, {}, {}]]\n",
    "    fig = make_subplots(rows=2, cols=3, figure=go.FigureWidget(layout=go.Layout(width=2000, height=1000)), specs=specs)\n",
    "\n",
    "    fig.add_trace(go.Scatter(x=X, y=y, mode='markers', marker_line_width=1), row=1, col=1) # 0\n",
    "    fig.add_trace(go.Scatter(x=X, mode='lines', marker_color='black'), row=1, col=1) # 1\n",
    "    [fig.add_trace(go.Scatter(x=[x, x], mode='lines', line=dict(dash='dot'), marker_color='orange', showlegend=False), row=1, col=1) for x in X]\n",
    "    fig.add_trace(go.Contour(x=W0_, y=W1_, z=error_surface, ncontours=25), row=1, col=2)\n",
    "    fig.add_trace(go.Scatter(x=[], y=[], mode='markers', marker_color='yellow', marker=dict(size=15, line=dict(width=2, color='black'))), row=1, col=2)\n",
    "    fig.add_trace(go.Surface(x=W0, y=W1, z=error_surface), row=1, col=3)\n",
    "    fig.add_trace(go.Scatter3d(x=[], y=[], z=[], mode='markers', marker_color='yellow', marker=dict(size=10, line=dict(color='black'))), row=1, col=3)\n",
    "    fig.add_trace(go.Scatter3d(x=[], y=[], z=[], mode='lines', marker_color='black', marker_line_width=25, line=dict(dash='dot')), row=1, col=3)\n",
    "\n",
    "    def update(w0, w1):\n",
    "\n",
    "        # Cálculo do MSE no ponto (w0,w1)\n",
    "        y_ = w0 + w1 * X\n",
    "        error = ((y - y_)**2).mean()\n",
    "\n",
    "        # Calculando o MSE nas direções de w0 e w1\n",
    "        w0_line = W0[0]\n",
    "        w1_line = W1[:,0]\n",
    "        error_line0 = ((y - (w1 * X.T + w0_line.reshape(-1,1)))**2).mean(axis=1)\n",
    "        error_line1 = ((y - (w1_line.reshape(-1,1) * X.T + w0))**2).mean(axis=1)\n",
    "\n",
    "        # Calculando o gradiente no ponto (w0, w1)\n",
    "        dj_dw0 = - 2 * (y - y_).mean()\n",
    "        dj_dw1 = - 2 * ((y - y_) * X).mean()\n",
    "\n",
    "        # Cálculo dos parâmetros das setas\n",
    "        norm0 = np.sqrt(1**2 + dj_dw0**2)\n",
    "        dw0 = - norm0 * dj_dw0 / abs(dj_dw0) * arrow_length\n",
    "        dj0 = - abs(dj_dw0 * norm0) * arrow_length\n",
    "\n",
    "        norm1 = np.sqrt(1**2 + dj_dw1**2)\n",
    "        dw1 = - norm1 * dj_dw1 / abs(dj_dw1) * arrow_length\n",
    "        dj1 = - abs(dj_dw1 * norm1) * arrow_length\n",
    "\n",
    "        # Atualização do Plot\n",
    "        with fig.batch_update():\n",
    "            fig.data[1].y = y_\n",
    "\n",
    "            fig.data[-4].x = [w0]\n",
    "            fig.data[-4].y = [w1]\n",
    "\n",
    "            fig.data[-2].x = [w0]\n",
    "            fig.data[-2].y = [w1]\n",
    "            fig.data[-2].z = [error]\n",
    "\n",
    "            fig.data[-1].x = [w0]*25\n",
    "            fig.data[-1].y = w1_line\n",
    "            fig.data[-1].z = error_line0\n",
    "            display(error_line0)\n",
    "            for data in range(2, 2+len(X)):\n",
    "                fig.data[data].y = [y[data-2], y_[data-2]]\n",
    "                \n",
    "    interact(\n",
    "        update,\n",
    "        w0=widgets.FloatSlider(value=w0, min=W0.min(), max=W0.max(), step=1e-3),\n",
    "        w1=widgets.FloatSlider(value=w1, min=W1.min(), max=W1.max(), step=1e-3, readout=True, readout_format='.3f')\n",
    "    )\n",
    "\n",
    "    display(fig)"
   ]
  },
  {
   "cell_type": "code",
   "execution_count": 63,
   "metadata": {},
   "outputs": [
    {
     "data": {
      "text/html": [
       "<div>\n",
       "<style scoped>\n",
       "    .dataframe tbody tr th:only-of-type {\n",
       "        vertical-align: middle;\n",
       "    }\n",
       "\n",
       "    .dataframe tbody tr th {\n",
       "        vertical-align: top;\n",
       "    }\n",
       "\n",
       "    .dataframe thead th {\n",
       "        text-align: right;\n",
       "    }\n",
       "</style>\n",
       "<table border=\"1\" class=\"dataframe\">\n",
       "  <thead>\n",
       "    <tr style=\"text-align: right;\">\n",
       "      <th></th>\n",
       "      <th>TV</th>\n",
       "      <th>radio</th>\n",
       "      <th>newspaper</th>\n",
       "      <th>sales</th>\n",
       "      <th>total-spend</th>\n",
       "    </tr>\n",
       "  </thead>\n",
       "  <tbody>\n",
       "    <tr>\n",
       "      <th>0</th>\n",
       "      <td>230.1</td>\n",
       "      <td>37.8</td>\n",
       "      <td>69.2</td>\n",
       "      <td>22.1</td>\n",
       "      <td>337.1</td>\n",
       "    </tr>\n",
       "    <tr>\n",
       "      <th>1</th>\n",
       "      <td>44.5</td>\n",
       "      <td>39.3</td>\n",
       "      <td>45.1</td>\n",
       "      <td>10.4</td>\n",
       "      <td>128.9</td>\n",
       "    </tr>\n",
       "    <tr>\n",
       "      <th>2</th>\n",
       "      <td>17.2</td>\n",
       "      <td>45.9</td>\n",
       "      <td>69.3</td>\n",
       "      <td>9.3</td>\n",
       "      <td>132.4</td>\n",
       "    </tr>\n",
       "    <tr>\n",
       "      <th>3</th>\n",
       "      <td>151.5</td>\n",
       "      <td>41.3</td>\n",
       "      <td>58.5</td>\n",
       "      <td>18.5</td>\n",
       "      <td>251.3</td>\n",
       "    </tr>\n",
       "    <tr>\n",
       "      <th>4</th>\n",
       "      <td>180.8</td>\n",
       "      <td>10.8</td>\n",
       "      <td>58.4</td>\n",
       "      <td>12.9</td>\n",
       "      <td>250.0</td>\n",
       "    </tr>\n",
       "  </tbody>\n",
       "</table>\n",
       "</div>"
      ],
      "text/plain": [
       "      TV  radio  newspaper  sales  total-spend\n",
       "0  230.1   37.8       69.2   22.1        337.1\n",
       "1   44.5   39.3       45.1   10.4        128.9\n",
       "2   17.2   45.9       69.3    9.3        132.4\n",
       "3  151.5   41.3       58.5   18.5        251.3\n",
       "4  180.8   10.8       58.4   12.9        250.0"
      ]
     },
     "execution_count": 63,
     "metadata": {},
     "output_type": "execute_result"
    }
   ],
   "source": [
    "df = pd.read_csv(r'.\\Recursos\\08-Linear-Regression-Models\\Advertising.csv')\n",
    "df['total-spend'] = df.iloc[:,:-1].sum(axis=1)\n",
    "df.head()"
   ]
  },
  {
   "cell_type": "code",
   "execution_count": 74,
   "metadata": {},
   "outputs": [
    {
     "data": {
      "application/vnd.jupyter.widget-view+json": {
       "model_id": "c9a5946f8fe746e1887ef3162a726e9e",
       "version_major": 2,
       "version_minor": 0
      },
      "text/plain": [
       "interactive(children=(FloatSlider(value=0.0, description='w0', min=-100.0, step=0.001), FloatSlider(value=0.0,…"
      ]
     },
     "metadata": {},
     "output_type": "display_data"
    },
    {
     "data": {
      "application/vnd.jupyter.widget-view+json": {
       "model_id": "fe86cea45cd94f18b0fd00c3b2091f14",
       "version_major": 2,
       "version_minor": 0
      },
      "text/plain": [
       "FigureWidget({\n",
       "    'data': [{'marker': {'line': {'width': 1}},\n",
       "              'mode': 'markers',\n",
       "              …"
      ]
     },
     "metadata": {},
     "output_type": "display_data"
    }
   ],
   "source": [
    "X = df['total-spend'].head(25).values\n",
    "y = df['sales'].head(25).values\n",
    "\n",
    "interactive_plot(X, y, 3e-6)"
   ]
  },
  {
   "cell_type": "markdown",
   "metadata": {},
   "source": [
    "### DEPOIS DE NORMALIZADO"
   ]
  },
  {
   "cell_type": "code",
   "execution_count": null,
   "metadata": {},
   "outputs": [],
   "source": [
    "X = df['total-spend'].head(25).values\n",
    "X = (X - np.mean(X)) / np.std(X)\n",
    "\n",
    "y = df['sales'].head(25).values\n",
    "\n",
    "interactive_plot(X, y, 2.5e-1)"
   ]
  },
  {
   "cell_type": "code",
   "execution_count": null,
   "metadata": {},
   "outputs": [],
   "source": [
    "X = df['total-spend'].head(25).values.reshape(-1,1)\n",
    "X_norm = (X - np.mean(X)) / np.std(X)\n",
    "\n",
    "y = df['sales'].head(25).values + 20"
   ]
  },
  {
   "cell_type": "code",
   "execution_count": null,
   "metadata": {},
   "outputs": [],
   "source": [
    "model = Linear_Regression()\n",
    "model_norm = Linear_Regression()\n",
    "\n",
    "epochs = 50\n",
    "history = model.fit_gd(X, y, learning_rate=1e-6, epochs=epochs)\n",
    "history_norm = model_norm.fit_gd(X_norm, y, learning_rate=1e-1, epochs=epochs)\n",
    "\n",
    "fig = plt.figure(figsize=(16,5))\n",
    "ax1 = fig.add_subplot(131)\n",
    "ax2 = fig.add_subplot(132)\n",
    "ax3 = fig.add_subplot(133, sharey=ax2)\n",
    "\n",
    "def update(epoch):\n",
    "    ax1.clear()\n",
    "    ax1.plot(np.log10(history['loss']), color='black', label='Custo (não normalizado)', zorder=0)\n",
    "    ax1.plot(np.log10(history_norm['loss']), color='black', linestyle='--', label='Custo (normalizado)', zorder=0)\n",
    "    ax1.scatter(epoch, np.log10(history['loss'][epoch]), c='yellow', ec='black', zorder=1)\n",
    "    ax1.scatter(epoch, np.log10(history_norm['loss'][epoch]), c='yellow', ec='black', zorder=1)\n",
    "    ax1.set_title('Curva de Aprendizado')\n",
    "    ax1.set_xlabel('Época')\n",
    "    ax1.set_ylabel(r'$log_{10}(\\text{MSE})$')\n",
    "    ax1.grid(False)\n",
    "    ax1.legend()\n",
    "\n",
    "    ax2.clear()\n",
    "    ax2.scatter(X, y, color='orange', ec='black', label=r'Observado ($y$)', zorder=1)\n",
    "    ax2.plot(X, history['y_pred'][epoch], color='black', linewidth=1, label=r'Calculado ($X\\beta$)', zorder=0)\n",
    "    ax2.set_title(f'Distribuição e Modelo Ajustado \\nÉpoca: {epoch}')\n",
    "    ax2.set_xlabel('X')\n",
    "    ax2.set_ylabel('y')\n",
    "    ax2.grid(False)\n",
    "    ax2.legend()\n",
    "\n",
    "    ax3.clear()\n",
    "    ax3.scatter(X_norm, y, color='orange', ec='black', label=r'Observado ($y$)', zorder=1)\n",
    "    ax3.plot(X_norm, history_norm['y_pred'][epoch], color='black', linewidth=1, label=r'Calculado ($X_{\\text{norm}}\\beta_{\\text{norm}}$)', zorder=0)\n",
    "    ax3.set_title(f'Distribuição Normalizada e Modelo Ajustado \\nÉpoca: {epoch}')\n",
    "    ax3.set_xlabel('X normalizado')\n",
    "    ax3.set_ylabel('y')\n",
    "    ax3.grid(False)\n",
    "    ax3.legend()\n",
    "\n",
    "# fig.tight_layout()\n",
    "# plt.show()\n",
    "\n",
    "interact(update, epoch=widgets.IntSlider(value=0, min=0, max=epochs-1))"
   ]
  },
  {
   "cell_type": "code",
   "execution_count": null,
   "metadata": {},
   "outputs": [],
   "source": []
  }
 ],
 "metadata": {
  "kernelspec": {
   "display_name": "base",
   "language": "python",
   "name": "python3"
  },
  "language_info": {
   "codemirror_mode": {
    "name": "ipython",
    "version": 3
   },
   "file_extension": ".py",
   "mimetype": "text/x-python",
   "name": "python",
   "nbconvert_exporter": "python",
   "pygments_lexer": "ipython3",
   "version": "3.11.7"
  }
 },
 "nbformat": 4,
 "nbformat_minor": 2
}
