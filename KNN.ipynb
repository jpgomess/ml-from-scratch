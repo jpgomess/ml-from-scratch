{
 "cells": [
  {
   "cell_type": "code",
   "execution_count": null,
   "metadata": {},
   "outputs": [],
   "source": [
    "import numpy as np\n",
    "import pandas as pd\n",
    "import matplotlib.pyplot as plt\n",
    "\n",
    "from collections import Counter"
   ]
  },
  {
   "cell_type": "code",
   "execution_count": null,
   "metadata": {},
   "outputs": [],
   "source": [
    "df = pd.read_csv('./Recursos/DATA/gene_expression.csv')\n",
    "\n",
    "df.head()"
   ]
  },
  {
   "cell_type": "code",
   "execution_count": null,
   "metadata": {},
   "outputs": [],
   "source": [
    "X = df.values[:,:2]\n",
    "y = df.values[:,-1]"
   ]
  },
  {
   "cell_type": "code",
   "execution_count": null,
   "metadata": {},
   "outputs": [],
   "source": [
    "X[0], X[:10], np.sum((X[:10] - X[0]) ** 2, axis=1)"
   ]
  },
  {
   "cell_type": "code",
   "execution_count": null,
   "metadata": {},
   "outputs": [],
   "source": [
    "plt.figure(figsize=(7,5))\n",
    "plt.scatter(X[:,0][y == 0], X[:,1][y == 0], ec='black', s=40, alpha=0.75)\n",
    "plt.scatter(X[:,0][y == 1], X[:,1][y == 1], ec='black', s=40, alpha=0.75)\n",
    "plt.xlabel('Gene One')\n",
    "plt.ylabel('Gene Two')\n",
    "plt.show()"
   ]
  },
  {
   "cell_type": "code",
   "execution_count": null,
   "metadata": {},
   "outputs": [],
   "source": [
    "class KNN:\n",
    "    def __init__(self, k):\n",
    "        self.k = k\n",
    "        self.X_train = None\n",
    "        self.y_train = None\n",
    "\n",
    "    def fit(self, X_train, y_train):\n",
    "        self.X_train = X_train\n",
    "        self.y_train = y_train\n",
    "    \n",
    "    def euclidean_distance(self, x):\n",
    "        return np.sum((x - self.X_train)**2, axis=1)\n",
    "\n",
    "    def predict(self, X):\n",
    "        y_pred = []\n",
    "        for x in X:\n",
    "            distance = self.euclidean_distance(x)\n",
    "\n",
    "            nearest_idx = np.argsort(distance)[:self.k]\n",
    "            nearest_y_tain = self.y_train[nearest_idx]\n",
    "\n",
    "            y_pred.append(Counter(nearest_y_tain).most_common(1)[0][0])\n",
    "        return np.asarray(y_pred)"
   ]
  },
  {
   "cell_type": "code",
   "execution_count": null,
   "metadata": {},
   "outputs": [],
   "source": [
    "m = 100\n",
    "X_train = X[:m]\n",
    "y_train = y[:m]\n",
    "\n",
    "model = KNN(k=3)\n",
    "model.fit(X_train, y_train)"
   ]
  },
  {
   "cell_type": "code",
   "execution_count": null,
   "metadata": {},
   "outputs": [],
   "source": [
    "plt.figure(figsize=(7,5))\n",
    "plt.scatter(X_train[y_train == 0, 0], X_train[y_train == 0, 1], s=40, ec='black')\n",
    "plt.scatter(X_train[y_train == 1, 0], X_train[y_train == 1, 1], s=40, ec='black')\n",
    "plt.xlabel('x1')\n",
    "plt.ylabel('x2')\n",
    "plt.show()"
   ]
  },
  {
   "cell_type": "code",
   "execution_count": null,
   "metadata": {},
   "outputs": [],
   "source": [
    "x = np.asarray([7, 4.25])\n",
    "y_pred = model.predict(x.reshape(1,-1))\n",
    "\n",
    "plt.figure(figsize=(7,5))\n",
    "plt.scatter(X_train[y_train == 0, 0], X_train[y_train == 0, 1], s=40, ec='black')\n",
    "plt.scatter(X_train[y_train == 1, 0], X_train[y_train == 1, 1], s=40, ec='black')\n",
    "plt.scatter(x[0], x[1], s=40, ec='black', label=y_pred[0])\n",
    "plt.xlabel('x1')\n",
    "plt.ylabel('x2')\n",
    "plt.legend()\n",
    "plt.show()"
   ]
  },
  {
   "cell_type": "code",
   "execution_count": null,
   "metadata": {},
   "outputs": [],
   "source": []
  }
 ],
 "metadata": {
  "kernelspec": {
   "display_name": "base",
   "language": "python",
   "name": "python3"
  },
  "language_info": {
   "codemirror_mode": {
    "name": "ipython",
    "version": 3
   },
   "file_extension": ".py",
   "mimetype": "text/x-python",
   "name": "python",
   "nbconvert_exporter": "python",
   "pygments_lexer": "ipython3",
   "version": "3.9.19"
  }
 },
 "nbformat": 4,
 "nbformat_minor": 2
}
